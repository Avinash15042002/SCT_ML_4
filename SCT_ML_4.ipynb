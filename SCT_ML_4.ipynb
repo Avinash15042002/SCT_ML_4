{
 "cells": [
  {
   "cell_type": "code",
   "execution_count": 3,
   "metadata": {},
   "outputs": [
    {
     "name": "stdout",
     "output_type": "stream",
     "text": [
      "Collecting ImageSeeker\n",
      "  Using cached ImageSeeker-0.7-py3-none-any.whl.metadata (10 kB)\n",
      "INFO: pip is looking at multiple versions of imageseeker to determine which version is compatible with other requirements. This could take a while.\n",
      "  Using cached ImageSeeker-0.6-py3-none-any.whl.metadata (10 kB)\n",
      "  Using cached ImageSeeker-0.5-py3-none-any.whl.metadata (10 kB)\n",
      "  Using cached ImageSeeker-0.4-py3-none-any.whl.metadata (10 kB)\n",
      "  Using cached ImageSeeker-0.3-py3-none-any.whl.metadata (10 kB)\n",
      "  Using cached ImageSeeker-0.2-py3-none-any.whl.metadata (13 kB)\n",
      "  Using cached ImageSeeker-0.1-py3-none-any.whl.metadata (13 kB)\n",
      "\n",
      "The conflict is caused by:\n",
      "    imageseeker 0.7 depends on tensorflow==2.4.1\n",
      "    imageseeker 0.6 depends on tensorflow==2.4.1\n",
      "    imageseeker 0.5 depends on tensorflow==2.4.1\n",
      "    imageseeker 0.4 depends on tensorflow==2.4.1\n",
      "    imageseeker 0.3 depends on tensorflow==2.4.1\n",
      "    imageseeker 0.2 depends on tensorflow==2.4.1\n",
      "    imageseeker 0.1 depends on tensorflow==2.4.1\n",
      "\n",
      "To fix this you could try to:\n",
      "1. loosen the range of package versions you've specified\n",
      "2. remove package versions to allow pip attempt to solve the dependency conflict\n",
      "\n",
      "Note: you may need to restart the kernel to use updated packages.\n"
     ]
    },
    {
     "name": "stderr",
     "output_type": "stream",
     "text": [
      "ERROR: Cannot install imageseeker==0.1, imageseeker==0.2, imageseeker==0.3, imageseeker==0.4, imageseeker==0.5, imageseeker==0.6 and imageseeker==0.7 because these package versions have conflicting dependencies.\n",
      "ERROR: ResolutionImpossible: for help visit https://pip.pypa.io/en/latest/topics/dependency-resolution/#dealing-with-dependency-conflicts\n",
      "\n",
      "[notice] A new release of pip is available: 24.0 -> 24.1.2\n",
      "[notice] To update, run: python.exe -m pip install --upgrade pip\n"
     ]
    }
   ],
   "source": [
    "%pip install ImageSeeker"
   ]
  }
 ],
 "metadata": {
  "kernelspec": {
   "display_name": "Python 3",
   "language": "python",
   "name": "python3"
  },
  "language_info": {
   "codemirror_mode": {
    "name": "ipython",
    "version": 3
   },
   "file_extension": ".py",
   "mimetype": "text/x-python",
   "name": "python",
   "nbconvert_exporter": "python",
   "pygments_lexer": "ipython3",
   "version": "3.12.4"
  }
 },
 "nbformat": 4,
 "nbformat_minor": 2
}
